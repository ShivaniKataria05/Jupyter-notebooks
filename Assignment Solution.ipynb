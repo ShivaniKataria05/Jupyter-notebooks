{
 "cells": [
  {
   "cell_type": "code",
   "execution_count": null,
   "metadata": {},
   "outputs": [],
   "source": []
  },
  {
   "cell_type": "code",
   "execution_count": 1,
   "metadata": {},
   "outputs": [
    {
     "name": "stdout",
     "output_type": "stream",
     "text": [
      "0 1 10 12 2 21 23 3 32 34 4 5 6 7 8 9 "
     ]
    }
   ],
   "source": [
    "# Q4 Solution\n",
    "\n",
    "# Class queue for use later\n",
    "class Queue:\n",
    "    def __init__(self):\n",
    "        self.lst = []\n",
    "  \n",
    "    def is_empty(self):\n",
    "        return self.lst == []\n",
    "  \n",
    "    def enqueue(self, elem):\n",
    "        self.lst.append(elem)\n",
    "  \n",
    "    def dequeue(self):\n",
    "        return self.lst.pop(0)\n",
    "  \n",
    " # Prints all jumping numbers smaller than or equal to\n",
    " # x starting with 'num'. It mainly does BFS starting\n",
    " # from 'num'.\n",
    "def bfs(x, num):\n",
    "  \n",
    "    # Create a queue and enqueue i to it\n",
    "    q = Queue()\n",
    "    q.enqueue(num)\n",
    "  \n",
    "    # Do BFS starting from 1\n",
    "    while (not q.is_empty()):\n",
    "         num = q.dequeue()\n",
    "  \n",
    "         if num<= x:\n",
    "            print(str(num), end =' ')\n",
    "            last_dig = num % 10\n",
    "  \n",
    "            # If last digit is 0, append next digit only\n",
    "            if last_dig == 0:\n",
    "                q.enqueue((num * 10) + (last_dig + 1))\n",
    "  \n",
    "            # If last digit is 9, append previous digit\n",
    "            # only\n",
    "            elif last_dig == 9:\n",
    "                q.enqueue((num * 10) + (last_dig - 1))\n",
    "  \n",
    "            # If last digit is neighter 0 nor 9, append\n",
    "            # both previous digit and next digit\n",
    "            else:\n",
    "                q.enqueue((num * 10) + (last_dig - 1))\n",
    "                q.enqueue((num * 10) + (last_dig + 1))\n",
    "  \n",
    " # Prints all jumping numbers smaller than or equal to\n",
    "# a positive number x\n",
    "def printJumping(x):\n",
    "    print (str(0), end =' ')\n",
    "    for i in range(1, 10):\n",
    "        bfs(x, i)\n",
    "        # Driver Program ( Change value of x as desired )\n",
    "x = 40\n",
    "printJumping(x)\n",
    "  \n",
    "\n"
   ]
  },
  {
   "cell_type": "code",
   "execution_count": 2,
   "metadata": {},
   "outputs": [
    {
     "name": "stdout",
     "output_type": "stream",
     "text": [
      "xyxyx\n"
     ]
    }
   ],
   "source": [
    "# Q3 solution\n",
    "\n",
    "\n",
    "# 'xy' and 'yx' is p and q respectively.\n",
    " \n",
    "# Function to check if answer exits\n",
    "def check(s, p, q):\n",
    "     \n",
    "    global nx\n",
    "    global ny\n",
    "     \n",
    "    # count total 'x' and 'y' in string\n",
    "    for i in range(0, len(s)):\n",
    "        if s[i] == 'x':\n",
    "            nx += 1\n",
    "        else:\n",
    "            ny += 1\n",
    " \n",
    "    # condition to check existence of answer\n",
    "    if nx * ny != p + q:\n",
    "        return 1\n",
    "    else:\n",
    "        return 0\n",
    " \n",
    " # smallest string\n",
    "def smallestPermutation(s, p, q):\n",
    " \n",
    "    # check if answer exist or not\n",
    "    if check(s, p, q) == 1:\n",
    "        return \"Impossible\"\n",
    " \n",
    "    s = sorted(s)\n",
    "    a, b, i = nx * ny, 0, 0\n",
    " \n",
    "    # check if count of 'xy' and 'yx' becomes\n",
    "    # equal to p and q respectively.\n",
    "    if a == p and b == q:\n",
    "        return '' . join(s)\n",
    " \n",
    "    # Repeat until answer is found.\n",
    "    while True:\n",
    "         \n",
    "        # Find index of 'x' to swap with 'y'.\n",
    "        for i in range(0, len(s) - 1):\n",
    "            if s[i] == 'x' and s[i + 1] == 'y':\n",
    "                break\n",
    " \n",
    "        for j in range(i, len(s) - 1):\n",
    "            if s[j] == 'x' and s[j + 1] == 'y':\n",
    "                \n",
    "                 \n",
    "                s[j], s[j + 1] = s[j + 1], s[j]\n",
    "                a -= 1 # 'xy' decrement by 1\n",
    "                b += 1 # 'yx' increment by 1\n",
    " \n",
    "                # check if count of 'xy' and 'yx' becomes\n",
    "                # equal to p and q respectively.\n",
    "                if a == p and b == q:\n",
    "                    return '' . join(s)\n",
    " \n",
    " # Driver code\n",
    "if __name__ == \"__main__\":\n",
    "     \n",
    "    nx, ny = 0, 0\n",
    "    s = \"yxxyx\"\n",
    "    p, q = 3, 3\n",
    " \n",
    "    print(smallestPermutation(s, p, q))\n",
    "     "
   ]
  },
  {
   "cell_type": "code",
   "execution_count": 3,
   "metadata": {},
   "outputs": [
    {
     "name": "stdout",
     "output_type": "stream",
     "text": [
      "34\n"
     ]
    }
   ],
   "source": [
    "#Q5 Solution\n",
    "\n",
    "def fib(n,st,en):\n",
    "    if n-1==0:\n",
    "      return en\n",
    "    if n>0:\n",
    "     \n",
    "     temp_st=en\n",
    "      \n",
    "     en=st+en\n",
    "     return fib(n-1,temp_st,en)\n",
    " \n",
    "if __name__ == \"__main__\":\n",
    "    print(fib(9,0,1))"
   ]
  },
  {
   "cell_type": "code",
   "execution_count": null,
   "metadata": {},
   "outputs": [],
   "source": []
  }
 ],
 "metadata": {
  "kernelspec": {
   "display_name": "Python 3",
   "language": "python",
   "name": "python3"
  },
  "language_info": {
   "codemirror_mode": {
    "name": "ipython",
    "version": 3
   },
   "file_extension": ".py",
   "mimetype": "text/x-python",
   "name": "python",
   "nbconvert_exporter": "python",
   "pygments_lexer": "ipython3",
   "version": "3.8.5"
  }
 },
 "nbformat": 4,
 "nbformat_minor": 4
}
